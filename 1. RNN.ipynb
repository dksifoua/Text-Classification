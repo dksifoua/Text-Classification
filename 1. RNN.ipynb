{
  "nbformat": 4,
  "nbformat_minor": 0,
  "metadata": {
    "colab": {
      "name": "1. RNN.ipynb",
      "provenance": [],
      "collapsed_sections": [],
      "authorship_tag": "ABX9TyPu4S0Go00AMPg105NkeJbz",
      "include_colab_link": true
    },
    "kernelspec": {
      "name": "python3",
      "display_name": "Python 3"
    },
    "accelerator": "GPU"
  },
  "cells": [
    {
      "cell_type": "markdown",
      "metadata": {
        "id": "view-in-github",
        "colab_type": "text"
      },
      "source": [
        "<a href=\"https://colab.research.google.com/github/dksifoua/Text-Classification/blob/master/1.%20RNN.ipynb\" target=\"_parent\"><img src=\"https://colab.research.google.com/assets/colab-badge.svg\" alt=\"Open In Colab\"/></a>"
      ]
    },
    {
      "cell_type": "code",
      "metadata": {
        "id": "HodGMmFf80M2",
        "outputId": "c1a20988-a6f4-4827-a451-51527a238d42",
        "colab": {
          "base_uri": "https://localhost:8080/",
          "height": 357
        }
      },
      "source": [
        "!nvidia-smi"
      ],
      "execution_count": 1,
      "outputs": [
        {
          "output_type": "stream",
          "text": [
            "Fri Oct 23 15:31:30 2020       \n",
            "+-----------------------------------------------------------------------------+\n",
            "| NVIDIA-SMI 455.23.05    Driver Version: 418.67       CUDA Version: 10.1     |\n",
            "|-------------------------------+----------------------+----------------------+\n",
            "| GPU  Name        Persistence-M| Bus-Id        Disp.A | Volatile Uncorr. ECC |\n",
            "| Fan  Temp  Perf  Pwr:Usage/Cap|         Memory-Usage | GPU-Util  Compute M. |\n",
            "|                               |                      |               MIG M. |\n",
            "|===============================+======================+======================|\n",
            "|   0  Tesla P100-PCIE...  Off  | 00000000:00:04.0 Off |                    0 |\n",
            "| N/A   34C    P0    25W / 250W |      0MiB / 16280MiB |      0%      Default |\n",
            "|                               |                      |                 ERR! |\n",
            "+-------------------------------+----------------------+----------------------+\n",
            "                                                                               \n",
            "+-----------------------------------------------------------------------------+\n",
            "| Processes:                                                                  |\n",
            "|  GPU   GI   CI        PID   Type   Process name                  GPU Memory |\n",
            "|        ID   ID                                                   Usage      |\n",
            "|=============================================================================|\n",
            "|  No running processes found                                                 |\n",
            "+-----------------------------------------------------------------------------+\n"
          ],
          "name": "stdout"
        }
      ]
    },
    {
      "cell_type": "code",
      "metadata": {
        "id": "qL0aQe8W_IPP"
      },
      "source": [
        "!pip install tqdm --upgrade >> /dev/null 2>&1\n",
        "!pip install torchtext --upgrade >> /dev/null 2>&1\n",
        "!pip install spacy --upgrade >> /dev/null 2>&1\n",
        "!python -m spacy download en >> /dev/null 2>&1"
      ],
      "execution_count": 2,
      "outputs": []
    },
    {
      "cell_type": "code",
      "metadata": {
        "id": "aqwfss2n83HD"
      },
      "source": [
        "import tqdm\n",
        "import warnings\n",
        "import numpy as np\n",
        "import pandas as pd\n",
        "import matplotlib.pyplot as plt\n",
        "%matplotlib inline\n",
        "\n",
        "from sklearn.metrics import accuracy_score, f1_score\n",
        "\n",
        "import torch\n",
        "import torch.nn as nn\n",
        "import torch.nn.functional as F\n",
        "import torch.optim as optim\n",
        "\n",
        "from torchtext.data import Dataset, Example, Field, LabelField\n",
        "from torchtext.data.iterator import BucketIterator"
      ],
      "execution_count": 26,
      "outputs": []
    },
    {
      "cell_type": "code",
      "metadata": {
        "id": "KWXjaydF-_J3",
        "outputId": "8553fa7a-6231-4d42-fec5-2ddd1ac5576b",
        "colab": {
          "base_uri": "https://localhost:8080/",
          "height": 34
        }
      },
      "source": [
        "warnings.simplefilter(action='ignore', category=UserWarning)\n",
        "warnings.simplefilter(action='ignore', category=FutureWarning)\n",
        "warnings.simplefilter(action='ignore', category=RuntimeWarning)\n",
        "warnings.simplefilter(action='ignore', category=DeprecationWarning)\n",
        "\n",
        "SEED = 546\n",
        "np.random.seed(SEED)\n",
        "torch.manual_seed(SEED)\n",
        "torch.cuda.manual_seed(SEED)\n",
        "torch.backends.cudnn.deterministic = True\n",
        "\n",
        "DEVICE = torch.device('cuda' if torch.cuda.is_available() else 'cpu')\n",
        "print(f'Device: {DEVICE}')"
      ],
      "execution_count": 4,
      "outputs": [
        {
          "output_type": "stream",
          "text": [
            "Device: cuda\n"
          ],
          "name": "stdout"
        }
      ]
    },
    {
      "cell_type": "code",
      "metadata": {
        "id": "cSF_yxFX9Cyi",
        "outputId": "8c69074c-3e2d-407e-8c35-6dc7c155fe9f",
        "colab": {
          "base_uri": "https://localhost:8080/",
          "height": 204
        }
      },
      "source": [
        "!rm -rf ./data\n",
        "!mkdir -p ./data\n",
        "!wget --no-check-certificate \\\n",
        "    https://data.deepai.org/agnews.zip \\\n",
        "    -O ./data/agnews.zip\n",
        "!unzip -q ./data/agnews.zip -d ./data\n",
        "!rm -r ./data/agnews.zip"
      ],
      "execution_count": 5,
      "outputs": [
        {
          "output_type": "stream",
          "text": [
            "--2020-10-23 15:31:41--  https://data.deepai.org/agnews.zip\n",
            "Resolving data.deepai.org (data.deepai.org)... 138.201.36.183\n",
            "Connecting to data.deepai.org (data.deepai.org)|138.201.36.183|:443... connected.\n",
            "HTTP request sent, awaiting response... 200 OK\n",
            "Length: 11949309 (11M) [application/x-zip-compressed]\n",
            "Saving to: ‘./data/agnews.zip’\n",
            "\n",
            "./data/agnews.zip   100%[===================>]  11.40M  4.70MB/s    in 2.4s    \n",
            "\n",
            "2020-10-23 15:31:45 (4.70 MB/s) - ‘./data/agnews.zip’ saved [11949309/11949309]\n",
            "\n"
          ],
          "name": "stdout"
        }
      ]
    },
    {
      "cell_type": "code",
      "metadata": {
        "id": "LLfuSWDC9iUd",
        "outputId": "0f2b69c9-90df-45df-ec31-7c2141f31c86",
        "colab": {
          "base_uri": "https://localhost:8080/",
          "height": 221
        }
      },
      "source": [
        "train = pd.read_csv('./data/train.csv')\n",
        "test = pd.read_csv('./data/test.csv')\n",
        "print(train.shape, test.shape)\n",
        "train.head()"
      ],
      "execution_count": 6,
      "outputs": [
        {
          "output_type": "stream",
          "text": [
            "(120000, 3) (7600, 3)\n"
          ],
          "name": "stdout"
        },
        {
          "output_type": "execute_result",
          "data": {
            "text/html": [
              "<div>\n",
              "<style scoped>\n",
              "    .dataframe tbody tr th:only-of-type {\n",
              "        vertical-align: middle;\n",
              "    }\n",
              "\n",
              "    .dataframe tbody tr th {\n",
              "        vertical-align: top;\n",
              "    }\n",
              "\n",
              "    .dataframe thead th {\n",
              "        text-align: right;\n",
              "    }\n",
              "</style>\n",
              "<table border=\"1\" class=\"dataframe\">\n",
              "  <thead>\n",
              "    <tr style=\"text-align: right;\">\n",
              "      <th></th>\n",
              "      <th>Class Index</th>\n",
              "      <th>Title</th>\n",
              "      <th>Description</th>\n",
              "    </tr>\n",
              "  </thead>\n",
              "  <tbody>\n",
              "    <tr>\n",
              "      <th>0</th>\n",
              "      <td>3</td>\n",
              "      <td>Wall St. Bears Claw Back Into the Black (Reuters)</td>\n",
              "      <td>Reuters - Short-sellers, Wall Street's dwindli...</td>\n",
              "    </tr>\n",
              "    <tr>\n",
              "      <th>1</th>\n",
              "      <td>3</td>\n",
              "      <td>Carlyle Looks Toward Commercial Aerospace (Reu...</td>\n",
              "      <td>Reuters - Private investment firm Carlyle Grou...</td>\n",
              "    </tr>\n",
              "    <tr>\n",
              "      <th>2</th>\n",
              "      <td>3</td>\n",
              "      <td>Oil and Economy Cloud Stocks' Outlook (Reuters)</td>\n",
              "      <td>Reuters - Soaring crude prices plus worries\\ab...</td>\n",
              "    </tr>\n",
              "    <tr>\n",
              "      <th>3</th>\n",
              "      <td>3</td>\n",
              "      <td>Iraq Halts Oil Exports from Main Southern Pipe...</td>\n",
              "      <td>Reuters - Authorities have halted oil export\\f...</td>\n",
              "    </tr>\n",
              "    <tr>\n",
              "      <th>4</th>\n",
              "      <td>3</td>\n",
              "      <td>Oil prices soar to all-time record, posing new...</td>\n",
              "      <td>AFP - Tearaway world oil prices, toppling reco...</td>\n",
              "    </tr>\n",
              "  </tbody>\n",
              "</table>\n",
              "</div>"
            ],
            "text/plain": [
              "   Class Index  ...                                        Description\n",
              "0            3  ...  Reuters - Short-sellers, Wall Street's dwindli...\n",
              "1            3  ...  Reuters - Private investment firm Carlyle Grou...\n",
              "2            3  ...  Reuters - Soaring crude prices plus worries\\ab...\n",
              "3            3  ...  Reuters - Authorities have halted oil export\\f...\n",
              "4            3  ...  AFP - Tearaway world oil prices, toppling reco...\n",
              "\n",
              "[5 rows x 3 columns]"
            ]
          },
          "metadata": {
            "tags": []
          },
          "execution_count": 6
        }
      ]
    },
    {
      "cell_type": "code",
      "metadata": {
        "id": "APz2BDlD9xgR"
      },
      "source": [
        "TEXT = Field(lower=True, tokenizer_language='en', tokenize='spacy', include_lengths=True)\n",
        "LABEL = LabelField(dtype=torch.long)"
      ],
      "execution_count": 80,
      "outputs": []
    },
    {
      "cell_type": "code",
      "metadata": {
        "id": "RYLnpZtO9_Kd",
        "outputId": "38db804e-5675-4b28-8fd4-ee4fb450ac65",
        "colab": {
          "base_uri": "https://localhost:8080/",
          "height": 102
        }
      },
      "source": [
        "train_dataset = Dataset([Example.fromdict(data=row.to_dict(), fields={\n",
        "    'Title': ('title', TEXT),\n",
        "    'Description': ('desc', TEXT),\n",
        "    'Class Index': ('trg', LABEL)\n",
        "}) for _, row in tqdm.tqdm(train.iterrows(), total=len(train))], fields={\n",
        "    'title': TEXT,\n",
        "    'desc': TEXT,\n",
        "    'trg': LABEL\n",
        "})\n",
        "test_dataset = Dataset([Example.fromdict(data=row.to_dict(), fields={\n",
        "    'Title': ('title', TEXT),\n",
        "    'Description': ('desc', TEXT),\n",
        "    'Class Index': ('trg', LABEL)\n",
        "}) for _, row in tqdm.tqdm(test.iterrows(), total=len(test))], fields={\n",
        "    'title': TEXT,\n",
        "    'desc': TEXT,\n",
        "    'trg': LABEL\n",
        "})\n",
        "print()\n",
        "print(f'Length of train dataset: {len(train_dataset.examples):,}')\n",
        "print(f'Length of test dataset: {len(test_dataset.examples):,}')"
      ],
      "execution_count": 81,
      "outputs": [
        {
          "output_type": "stream",
          "text": [
            "100%|██████████| 120000/120000 [01:15<00:00, 1588.14it/s]\n",
            "100%|██████████| 7600/7600 [00:04<00:00, 1640.53it/s]"
          ],
          "name": "stderr"
        },
        {
          "output_type": "stream",
          "text": [
            "\n",
            "Length of train dataset: 120,000\n",
            "Length of test dataset: 7,600\n"
          ],
          "name": "stdout"
        },
        {
          "output_type": "stream",
          "text": [
            "\n"
          ],
          "name": "stderr"
        }
      ]
    },
    {
      "cell_type": "code",
      "metadata": {
        "id": "4YDvax-c_iTp",
        "outputId": "f97872c3-c217-4992-d20c-1b7842126724",
        "colab": {
          "base_uri": "https://localhost:8080/",
          "height": 51
        }
      },
      "source": [
        "TEXT.build_vocab(train_dataset, min_freq=2)\n",
        "LABEL.build_vocab(train_dataset)\n",
        "print(f'Length of TEXT vocabulary: {len(TEXT.vocab):,}')\n",
        "print(f'Length of LABEL vocabulary: {len(LABEL.vocab):,}')"
      ],
      "execution_count": 82,
      "outputs": [
        {
          "output_type": "stream",
          "text": [
            "Length of TEXT vocabulary: 49,763\n",
            "Length of LABEL vocabulary: 4\n"
          ],
          "name": "stdout"
        }
      ]
    },
    {
      "cell_type": "code",
      "metadata": {
        "id": "0ukBiGUIGC69"
      },
      "source": [
        "class RNN(nn.Module):\n",
        "\n",
        "    def __init__(self, vocab_size, embedding_size, hidden_size, output_size, n_layers, dropout):\n",
        "        super(RNN, self).__init__()\n",
        "        self.vocab_size = vocab_size\n",
        "        self.embedding_size = embedding_size\n",
        "        self.hidden_size = hidden_size\n",
        "        self.n_layers = n_layers\n",
        "        self.dropout = nn.Dropout(dropout)\n",
        "        self.embedding = nn.Embedding(vocab_size, embedding_size)\n",
        "        self.gru = nn.GRU(embedding_size, hidden_size, num_layers=n_layers, dropout=dropout, bidirectional=True)\n",
        "        self.fc = nn.Linear(hidden_size * 2, output_size)\n",
        "    \n",
        "    def forward(self, input_sequences, sequence_lengths):\n",
        "        \"\"\"\n",
        "        :param Tensor[seq_len, batch_size] input_sequences\n",
        "        :param Tensor[batch_size,] sequence_lengths\n",
        "        \"\"\"\n",
        "        embedded = self.dropout(self.embedding(input_sequences)) # [seq_len, batch_size, embedding_size]\n",
        "        packed = nn.utils.rnn.pack_padded_sequence(embedded, sequence_lengths)\n",
        "        _, h_state = self.gru(packed) # [n_layers * 2, batch_size, hidden_size]\n",
        "        h_state = h_state.view(self.n_layers, 2, -1, self.hidden_size) # [n_layers, 2, batch_size, hidden_size]\n",
        "        concat = torch.cat([h_state[-1][0], h_state[-1][1]], dim=1) # [batch_size, hidden_size * 2]\n",
        "        logits = self.fc(self.dropout(concat)) # [batch_size, output_size]\n",
        "        return logits"
      ],
      "execution_count": 83,
      "outputs": []
    },
    {
      "cell_type": "code",
      "metadata": {
        "id": "CsL1DMISOx40"
      },
      "source": [
        "class AverageMeter:\n",
        "    \n",
        "    def __init__(self):\n",
        "        self.value = 0.\n",
        "        self.sum = 0.\n",
        "        self.count = 0\n",
        "        self.average = 0.\n",
        "        \n",
        "    def reset(self):\n",
        "        self.value = 0.\n",
        "        self.sum = 0.\n",
        "        self.count = 0\n",
        "        self.average = 0.\n",
        "        \n",
        "    def update(self, value, n=1):\n",
        "        self.value = value\n",
        "        self.sum += value * n\n",
        "        self.count += n\n",
        "        self.average = self.sum / self.count"
      ],
      "execution_count": 84,
      "outputs": []
    },
    {
      "cell_type": "code",
      "metadata": {
        "id": "lX0W7MNRP4jG"
      },
      "source": [
        "def compute_metrics(y_pred, y_true):\n",
        "    y_pred = F.softmax(y_pred, dim=-1) # [batch_size, 4]\n",
        "    y_pred = y_pred.argmax(dim=1) # [batch_size,]\n",
        "    y_pred, y_true = y_pred.cpu().numpy(), y_true.cpu().numpy()\n",
        "    acc = accuracy_score(y_true, y_pred)\n",
        "    f1 = f1_score(y_true, y_pred, average='weighted')\n",
        "    return acc, f1"
      ],
      "execution_count": 90,
      "outputs": []
    },
    {
      "cell_type": "code",
      "metadata": {
        "id": "pB8_s6llO8Jh"
      },
      "source": [
        "class Trainer:\n",
        "    \n",
        "    def __init__(self, model, optimizer, criterion):\n",
        "        self.model = model\n",
        "        self.optimizer = optimizer\n",
        "        self.criterion = criterion\n",
        "    \n",
        "    def train_step(self, loader, epoch, grad_clip):\n",
        "        loss_tracker, acc_tracker, f1_tracker = AverageMeter(), AverageMeter(), AverageMeter()\n",
        "        self.model.train()\n",
        "        progress_bar = tqdm.tqdm(enumerate(loader), total=len(loader))\n",
        "        for i, batch in progress_bar:\n",
        "            self.optimizer.zero_grad()\n",
        "            logits = self.model(*batch.desc)\n",
        "            loss = self.criterion(logits, batch.trg)\n",
        "            loss.backward()\n",
        "            nn.utils.clip_grad_norm_(self.model.parameters(), grad_clip)\n",
        "            self.optimizer.step()\n",
        "            acc, f1 = compute_metrics(logits, batch.trg)\n",
        "            loss_tracker.update(loss.item()); acc_tracker.update(acc); f1_tracker.update(f1)\n",
        "            loss_, acc_, f1_ = loss_tracker.average, acc_tracker.average, f1_tracker.average\n",
        "            progress_bar.set_description(f'Epoch: {epoch+1:02d} -     loss: {loss_:.3f} -     acc: {acc_*100:.3f}% -     f1: {f1_*100:.3f}%')\n",
        "        return loss_tracker.average, acc_tracker.average, f1_tracker.average\n",
        "    \n",
        "    def validate(self, loader, epoch):\n",
        "        loss_tracker, acc_tracker, f1_tracker = AverageMeter(), AverageMeter(), AverageMeter()\n",
        "        self.model.eval()\n",
        "        with torch.no_grad():\n",
        "            progress_bar = tqdm.tqdm(enumerate(loader), total=len(loader))\n",
        "            for i, batch in progress_bar:\n",
        "                logits = self.model(*batch.desc)\n",
        "                loss = self.criterion(logits, batch.trg)\n",
        "                acc, f1 = compute_metrics(logits, batch.trg)\n",
        "                loss_tracker.update(loss.item()); acc_tracker.update(acc); f1_tracker.update(f1)\n",
        "                loss_, acc_, f1_ = loss_tracker.average, acc_tracker.average, f1_tracker.average\n",
        "                progress_bar.set_description(f'Epoch: {epoch+1:02d} - val_loss: {loss_:.3f} - val_acc: {acc_*100:.3f}% - val_f1: {f1_*100:.3f}%')\n",
        "        return loss_tracker.average, acc_tracker.average, f1_tracker.average\n",
        "    \n",
        "    def train(self, train_loader, valid_loader, n_epochs, grad_clip):\n",
        "        history, best_loss = {'acc': [], 'loss': [], 'f1': [], 'val_acc': [], 'val_loss': [], 'val_f1': []}, np.inf\n",
        "        for epoch in range(n_epochs):\n",
        "            loss, acc, f1 = self.train_step(train_loader, epoch, grad_clip)\n",
        "            val_loss, val_acc, val_f1 = self.validate(valid_loader, epoch)\n",
        "            if best_loss > val_loss:\n",
        "                best_loss = val_loss\n",
        "                torch.save(self.model.state_dict(), './checkpoints/transformer.pth')\n",
        "            history['acc'].append(acc); history['val_acc'].append(val_acc)\n",
        "            history['loss'].append(loss); history['val_loss'].append(val_loss)\n",
        "            history['f1'].append(f1); history['val_f1'].append(val_f1)\n",
        "        return history"
      ],
      "execution_count": 104,
      "outputs": []
    },
    {
      "cell_type": "code",
      "metadata": {
        "id": "XyFaqFe_Ukfz"
      },
      "source": [
        "EMBEDDING_SIZE = 300\n",
        "HIDDEN_SIZE = 256\n",
        "N_LAYERS = 2\n",
        "DROPOUT = 0.25\n",
        "BATCH_SIZE = 64\n",
        "LR = 5e-4\n",
        "N_EPOCHS = 5\n",
        "GRAD_CLIP = 1.0"
      ],
      "execution_count": 109,
      "outputs": []
    },
    {
      "cell_type": "code",
      "metadata": {
        "id": "3b7gJOhTU0wW",
        "outputId": "8900340c-64e1-4018-a1e6-29f248f33ad3",
        "colab": {
          "base_uri": "https://localhost:8080/",
          "height": 136
        }
      },
      "source": [
        "model = RNN(vocab_size=len(TEXT.vocab),\n",
        "            embedding_size=EMBEDDING_SIZE,\n",
        "            hidden_size=HIDDEN_SIZE,\n",
        "            output_size=len(np.unique(train['Class Index'])),\n",
        "            n_layers=N_LAYERS,\n",
        "            dropout=DROPOUT).to(DEVICE)\n",
        "optimizer = optim.RMSprop(params=model.parameters(), lr=LR)\n",
        "criterion = nn.CrossEntropyLoss()\n",
        "print(f'Number of parameters of the model: {sum(p.numel() for p in model.parameters() if p.requires_grad):,}')\n",
        "print(model)\n",
        "trainer = Trainer(model=model, optimizer=optimizer, criterion=criterion)"
      ],
      "execution_count": 110,
      "outputs": [
        {
          "output_type": "stream",
          "text": [
            "Number of parameters of the model: 16,970,760\n",
            "RNN(\n",
            "  (dropout): Dropout(p=0.25, inplace=False)\n",
            "  (embedding): Embedding(49763, 300)\n",
            "  (gru): GRU(300, 256, num_layers=2, dropout=0.25, bidirectional=True)\n",
            "  (fc): Linear(in_features=512, out_features=4, bias=True)\n",
            ")\n"
          ],
          "name": "stdout"
        }
      ]
    },
    {
      "cell_type": "code",
      "metadata": {
        "id": "LdOudO1kVfbi",
        "outputId": "12950d31-92d2-452e-e293-492d6a321d17",
        "colab": {
          "base_uri": "https://localhost:8080/",
          "height": 187
        }
      },
      "source": [
        "train_iterator, test_iterator =  BucketIterator.splits((train_dataset, test_dataset),\n",
        "                                                       batch_size=BATCH_SIZE,\n",
        "                                                       sort_key=lambda x: len(x.desc),\n",
        "                                                       sort_within_batch=True,\n",
        "                                                       device=DEVICE)\n",
        "!mkdir -p ./checkpoints\n",
        "history = trainer.train(train_loader=train_iterator, valid_loader=test_iterator, n_epochs=N_EPOCHS, grad_clip=GRAD_CLIP)"
      ],
      "execution_count": 111,
      "outputs": [
        {
          "output_type": "stream",
          "text": [
            "Epoch: 01 -     loss: 0.483 -     acc: 81.896% -     f1: 81.849%: 100%|██████████| 1875/1875 [00:44<00:00, 42.34it/s]\n",
            "Epoch: 01 - val_loss: 0.314 - val_acc: 89.032% - val_f1: 89.029%: 100%|██████████| 119/119 [00:00<00:00, 123.71it/s]\n",
            "Epoch: 02 -     loss: 0.287 -     acc: 89.980% -     f1: 89.988%: 100%|██████████| 1875/1875 [00:43<00:00, 42.65it/s]\n",
            "Epoch: 02 - val_loss: 0.268 - val_acc: 90.704% - val_f1: 90.705%: 100%|██████████| 119/119 [00:00<00:00, 122.34it/s]\n",
            "Epoch: 03 -     loss: 0.227 -     acc: 92.104% -     f1: 92.113%: 100%|██████████| 1875/1875 [00:43<00:00, 42.76it/s]\n",
            "Epoch: 03 - val_loss: 0.250 - val_acc: 91.518% - val_f1: 91.514%: 100%|██████████| 119/119 [00:00<00:00, 123.90it/s]\n",
            "Epoch: 04 -     loss: 0.186 -     acc: 93.475% -     f1: 93.486%: 100%|██████████| 1875/1875 [00:43<00:00, 42.89it/s]\n",
            "Epoch: 04 - val_loss: 0.259 - val_acc: 91.772% - val_f1: 91.760%: 100%|██████████| 119/119 [00:00<00:00, 123.04it/s]\n",
            "Epoch: 05 -     loss: 0.152 -     acc: 94.672% -     f1: 94.675%: 100%|██████████| 1875/1875 [00:43<00:00, 42.70it/s]\n",
            "Epoch: 05 - val_loss: 0.255 - val_acc: 91.794% - val_f1: 91.808%: 100%|██████████| 119/119 [00:00<00:00, 122.88it/s]\n"
          ],
          "name": "stderr"
        }
      ]
    },
    {
      "cell_type": "code",
      "metadata": {
        "id": "rMObPWHHa1CV",
        "outputId": "77ca390a-14cb-4824-bb63-4a4cdd2a39d7",
        "colab": {
          "base_uri": "https://localhost:8080/",
          "height": 350
        }
      },
      "source": [
        "_, axes = plt.subplots(1, 3, figsize=(15, 5))\n",
        "\n",
        "axes[0].plot(history['loss'], label='train')\n",
        "axes[0].plot(history['val_loss'], label='valid')\n",
        "axes[0].set_title('Loss history')\n",
        "axes[0].set_xlabel('Epoch')\n",
        "axes[0].set_ylabel('Loss')\n",
        "axes[0].grid(True)\n",
        "axes[0].legend()\n",
        "\n",
        "axes[1].plot(history['acc'], label='train')\n",
        "axes[1].plot(history['val_acc'], label='valid')\n",
        "axes[1].set_title('Accuracy history')\n",
        "axes[1].set_xlabel('Epoch')\n",
        "axes[1].set_ylabel('Accuracy (%)')\n",
        "axes[1].grid(True)\n",
        "axes[1].legend()\n",
        "\n",
        "axes[2].plot(history['f1'], label='train')\n",
        "axes[2].plot(history['val_f1'], label='valid')\n",
        "axes[2].set_title('F1 history')\n",
        "axes[2].set_xlabel('Epoch')\n",
        "axes[2].set_ylabel('F1 (%)')\n",
        "axes[2].grid(True)\n",
        "axes[2].legend()\n",
        "\n",
        "plt.show()"
      ],
      "execution_count": 112,
      "outputs": [
        {
          "output_type": "display_data",
          "data": {
            "image/png": "[encoded data removed]",
            "text/plain": [
              "<Figure size 1080x360 with 3 Axes>"
            ]
          },
          "metadata": {
            "tags": [],
            "needs_background": "light"
          }
        }
      ]
    },
    {
      "cell_type": "code",
      "metadata": {
        "id": "ws64bFPIbyFg"
      },
      "source": [
        ""
      ],
      "execution_count": null,
      "outputs": []
    }
  ]
}