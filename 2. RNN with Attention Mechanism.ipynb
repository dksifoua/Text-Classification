{
  "nbformat": 4,
  "nbformat_minor": 0,
  "metadata": {
    "colab": {
      "name": "2. RNN with Attention Mechanism.ipyn2",
      "provenance": [],
      "collapsed_sections": [],
      "authorship_tag": "ABX9TyPDQcY8IRkeJfYjrXoMaKeG",
      "include_colab_link": true
    },
    "kernelspec": {
      "name": "python3",
      "display_name": "Python 3"
    },
    "accelerator": "GPU"
  },
  "cells": [
    {
      "cell_type": "markdown",
      "metadata": {
        "id": "view-in-github",
        "colab_type": "text"
      },
      "source": [
        "<a href=\"https://colab.research.google.com/github/dksifoua/Text-Classification/blob/master/2.%20RNN%20with%20Attention%20Mechanism.ipynb\" target=\"_parent\"><img src=\"https://colab.research.google.com/assets/colab-badge.svg\" alt=\"Open In Colab\"/></a>"
      ]
    },
    {
      "cell_type": "code",
      "metadata": {
        "id": "HodGMmFf80M2",
        "outputId": "73e25a78-fbd5-4e74-d7a0-4b6a67a5ef24",
        "colab": {
          "base_uri": "https://localhost:8080/",
          "height": 357
        }
      },
      "source": [
        "!nvidia-smi"
      ],
      "execution_count": 131,
      "outputs": [
        {
          "output_type": "stream",
          "text": [
            "Fri Oct 23 18:00:15 2020       \n",
            "+-----------------------------------------------------------------------------+\n",
            "| NVIDIA-SMI 455.23.05    Driver Version: 418.67       CUDA Version: 10.1     |\n",
            "|-------------------------------+----------------------+----------------------+\n",
            "| GPU  Name        Persistence-M| Bus-Id        Disp.A | Volatile Uncorr. ECC |\n",
            "| Fan  Temp  Perf  Pwr:Usage/Cap|         Memory-Usage | GPU-Util  Compute M. |\n",
            "|                               |                      |               MIG M. |\n",
            "|===============================+======================+======================|\n",
            "|   0  Tesla P100-PCIE...  Off  | 00000000:00:04.0 Off |                    0 |\n",
            "| N/A   36C    P0    31W / 250W |   3153MiB / 16280MiB |      0%      Default |\n",
            "|                               |                      |                 ERR! |\n",
            "+-------------------------------+----------------------+----------------------+\n",
            "                                                                               \n",
            "+-----------------------------------------------------------------------------+\n",
            "| Processes:                                                                  |\n",
            "|  GPU   GI   CI        PID   Type   Process name                  GPU Memory |\n",
            "|        ID   ID                                                   Usage      |\n",
            "|=============================================================================|\n",
            "|  No running processes found                                                 |\n",
            "+-----------------------------------------------------------------------------+\n"
          ],
          "name": "stdout"
        }
      ]
    },
    {
      "cell_type": "code",
      "metadata": {
        "id": "qL0aQe8W_IPP"
      },
      "source": [
        "!pip install tqdm --upgrade >> /dev/null 2>&1\n",
        "!pip install torchtext --upgrade >> /dev/null 2>&1\n",
        "!pip install spacy --upgrade >> /dev/null 2>&1\n",
        "!python -m spacy download en >> /dev/null 2>&1"
      ],
      "execution_count": 132,
      "outputs": []
    },
    {
      "cell_type": "code",
      "metadata": {
        "id": "aqwfss2n83HD"
      },
      "source": [
        "import tqdm\n",
        "import warnings\n",
        "import numpy as np\n",
        "import pandas as pd\n",
        "import matplotlib.pyplot as plt\n",
        "%matplotlib inline\n",
        "\n",
        "from sklearn.metrics import accuracy_score, f1_score\n",
        "\n",
        "import torch\n",
        "import torch.nn as nn\n",
        "import torch.nn.functional as F\n",
        "import torch.optim as optim\n",
        "\n",
        "from torchtext.data import Dataset, Example, Field, LabelField\n",
        "from torchtext.data.iterator import BucketIterator"
      ],
      "execution_count": 133,
      "outputs": []
    },
    {
      "cell_type": "code",
      "metadata": {
        "id": "KWXjaydF-_J3",
        "outputId": "45b3e6ad-c4a9-4391-e86f-3dbdcfa3f312",
        "colab": {
          "base_uri": "https://localhost:8080/",
          "height": 34
        }
      },
      "source": [
        "warnings.simplefilter(action='ignore', category=UserWarning)\n",
        "warnings.simplefilter(action='ignore', category=FutureWarning)\n",
        "warnings.simplefilter(action='ignore', category=RuntimeWarning)\n",
        "warnings.simplefilter(action='ignore', category=DeprecationWarning)\n",
        "\n",
        "SEED = 546\n",
        "np.random.seed(SEED)\n",
        "torch.manual_seed(SEED)\n",
        "torch.cuda.manual_seed(SEED)\n",
        "torch.backends.cudnn.deterministic = True\n",
        "\n",
        "DEVICE = torch.device('cuda' if torch.cuda.is_available() else 'cpu')\n",
        "print(f'Device: {DEVICE}')"
      ],
      "execution_count": 134,
      "outputs": [
        {
          "output_type": "stream",
          "text": [
            "Device: cuda\n"
          ],
          "name": "stdout"
        }
      ]
    },
    {
      "cell_type": "code",
      "metadata": {
        "id": "cSF_yxFX9Cyi",
        "outputId": "74f5b809-5a28-4003-fbd9-91d3e0b3c38f",
        "colab": {
          "base_uri": "https://localhost:8080/",
          "height": 204
        }
      },
      "source": [
        "!rm -rf ./data\n",
        "!mkdir -p ./data\n",
        "!wget --no-check-certificate \\\n",
        "    https://data.deepai.org/agnews.zip \\\n",
        "    -O ./data/agnews.zip\n",
        "!unzip -q ./data/agnews.zip -d ./data\n",
        "!rm -r ./data/agnews.zip"
      ],
      "execution_count": 135,
      "outputs": [
        {
          "output_type": "stream",
          "text": [
            "--2020-10-23 18:00:26--  https://data.deepai.org/agnews.zip\n",
            "Resolving data.deepai.org (data.deepai.org)... 138.201.36.183\n",
            "Connecting to data.deepai.org (data.deepai.org)|138.201.36.183|:443... connected.\n",
            "HTTP request sent, awaiting response... 200 OK\n",
            "Length: 11949309 (11M) [application/x-zip-compressed]\n",
            "Saving to: ‘./data/agnews.zip’\n",
            "\n",
            "./data/agnews.zip   100%[===================>]  11.40M  4.74MB/s    in 2.4s    \n",
            "\n",
            "2020-10-23 18:00:31 (4.74 MB/s) - ‘./data/agnews.zip’ saved [11949309/11949309]\n",
            "\n"
          ],
          "name": "stdout"
        }
      ]
    },
    {
      "cell_type": "code",
      "metadata": {
        "id": "LLfuSWDC9iUd",
        "outputId": "2c1a13a6-2ee6-42ab-fd90-8352761b13f0",
        "colab": {
          "base_uri": "https://localhost:8080/",
          "height": 221
        }
      },
      "source": [
        "train = pd.read_csv('./data/train.csv')\n",
        "test = pd.read_csv('./data/test.csv')\n",
        "print(train.shape, test.shape)\n",
        "train.head()"
      ],
      "execution_count": 136,
      "outputs": [
        {
          "output_type": "stream",
          "text": [
            "(120000, 3) (7600, 3)\n"
          ],
          "name": "stdout"
        },
        {
          "output_type": "execute_result",
          "data": {
            "text/html": [
              "<div>\n",
              "<style scoped>\n",
              "    .dataframe tbody tr th:only-of-type {\n",
              "        vertical-align: middle;\n",
              "    }\n",
              "\n",
              "    .dataframe tbody tr th {\n",
              "        vertical-align: top;\n",
              "    }\n",
              "\n",
              "    .dataframe thead th {\n",
              "        text-align: right;\n",
              "    }\n",
              "</style>\n",
              "<table border=\"1\" class=\"dataframe\">\n",
              "  <thead>\n",
              "    <tr style=\"text-align: right;\">\n",
              "      <th></th>\n",
              "      <th>Class Index</th>\n",
              "      <th>Title</th>\n",
              "      <th>Description</th>\n",
              "    </tr>\n",
              "  </thead>\n",
              "  <tbody>\n",
              "    <tr>\n",
              "      <th>0</th>\n",
              "      <td>3</td>\n",
              "      <td>Wall St. Bears Claw Back Into the Black (Reuters)</td>\n",
              "      <td>Reuters - Short-sellers, Wall Street's dwindli...</td>\n",
              "    </tr>\n",
              "    <tr>\n",
              "      <th>1</th>\n",
              "      <td>3</td>\n",
              "      <td>Carlyle Looks Toward Commercial Aerospace (Reu...</td>\n",
              "      <td>Reuters - Private investment firm Carlyle Grou...</td>\n",
              "    </tr>\n",
              "    <tr>\n",
              "      <th>2</th>\n",
              "      <td>3</td>\n",
              "      <td>Oil and Economy Cloud Stocks' Outlook (Reuters)</td>\n",
              "      <td>Reuters - Soaring crude prices plus worries\\ab...</td>\n",
              "    </tr>\n",
              "    <tr>\n",
              "      <th>3</th>\n",
              "      <td>3</td>\n",
              "      <td>Iraq Halts Oil Exports from Main Southern Pipe...</td>\n",
              "      <td>Reuters - Authorities have halted oil export\\f...</td>\n",
              "    </tr>\n",
              "    <tr>\n",
              "      <th>4</th>\n",
              "      <td>3</td>\n",
              "      <td>Oil prices soar to all-time record, posing new...</td>\n",
              "      <td>AFP - Tearaway world oil prices, toppling reco...</td>\n",
              "    </tr>\n",
              "  </tbody>\n",
              "</table>\n",
              "</div>"
            ],
            "text/plain": [
              "   Class Index  ...                                        Description\n",
              "0            3  ...  Reuters - Short-sellers, Wall Street's dwindli...\n",
              "1            3  ...  Reuters - Private investment firm Carlyle Grou...\n",
              "2            3  ...  Reuters - Soaring crude prices plus worries\\ab...\n",
              "3            3  ...  Reuters - Authorities have halted oil export\\f...\n",
              "4            3  ...  AFP - Tearaway world oil prices, toppling reco...\n",
              "\n",
              "[5 rows x 3 columns]"
            ]
          },
          "metadata": {
            "tags": []
          },
          "execution_count": 136
        }
      ]
    },
    {
      "cell_type": "code",
      "metadata": {
        "id": "APz2BDlD9xgR"
      },
      "source": [
        "TEXT = Field(lower=True, tokenizer_language='en', tokenize='spacy', include_lengths=True)\n",
        "LABEL = LabelField(dtype=torch.long)"
      ],
      "execution_count": 137,
      "outputs": []
    },
    {
      "cell_type": "code",
      "metadata": {
        "id": "RYLnpZtO9_Kd",
        "outputId": "8547f148-a850-4614-97bb-4467d0414aae",
        "colab": {
          "base_uri": "https://localhost:8080/",
          "height": 102
        }
      },
      "source": [
        "train_dataset = Dataset([Example.fromdict(data=row.to_dict(), fields={\n",
        "    'Title': ('title', TEXT),\n",
        "    'Description': ('desc', TEXT),\n",
        "    'Class Index': ('trg', LABEL)\n",
        "}) for _, row in tqdm.tqdm(train.iterrows(), total=len(train))], fields={\n",
        "    'title': TEXT,\n",
        "    'desc': TEXT,\n",
        "    'trg': LABEL\n",
        "})\n",
        "test_dataset = Dataset([Example.fromdict(data=row.to_dict(), fields={\n",
        "    'Title': ('title', TEXT),\n",
        "    'Description': ('desc', TEXT),\n",
        "    'Class Index': ('trg', LABEL)\n",
        "}) for _, row in tqdm.tqdm(test.iterrows(), total=len(test))], fields={\n",
        "    'title': TEXT,\n",
        "    'desc': TEXT,\n",
        "    'trg': LABEL\n",
        "})\n",
        "print()\n",
        "print(f'Length of train dataset: {len(train_dataset.examples):,}')\n",
        "print(f'Length of test dataset: {len(test_dataset.examples):,}')"
      ],
      "execution_count": 138,
      "outputs": [
        {
          "output_type": "stream",
          "text": [
            "100%|██████████| 120000/120000 [01:12<00:00, 1646.41it/s]\n",
            "100%|██████████| 7600/7600 [00:04<00:00, 1677.72it/s]"
          ],
          "name": "stderr"
        },
        {
          "output_type": "stream",
          "text": [
            "\n",
            "Length of train dataset: 120,000\n",
            "Length of test dataset: 7,600\n"
          ],
          "name": "stdout"
        },
        {
          "output_type": "stream",
          "text": [
            "\n"
          ],
          "name": "stderr"
        }
      ]
    },
    {
      "cell_type": "code",
      "metadata": {
        "id": "4YDvax-c_iTp",
        "outputId": "fa485bed-d73c-4d67-e54b-258733a523e6",
        "colab": {
          "base_uri": "https://localhost:8080/",
          "height": 51
        }
      },
      "source": [
        "TEXT.build_vocab(train_dataset, min_freq=2)\n",
        "LABEL.build_vocab(train_dataset)\n",
        "print(f'Length of TEXT vocabulary: {len(TEXT.vocab):,}')\n",
        "print(f'Length of LABEL vocabulary: {len(LABEL.vocab):,}')"
      ],
      "execution_count": 139,
      "outputs": [
        {
          "output_type": "stream",
          "text": [
            "Length of TEXT vocabulary: 49,763\n",
            "Length of LABEL vocabulary: 4\n"
          ],
          "name": "stdout"
        }
      ]
    },
    {
      "cell_type": "code",
      "metadata": {
        "id": "0ukBiGUIGC69"
      },
      "source": [
        "class AttentionRNN(nn.Module):\n",
        "\n",
        "    def __init__(self, vocab_size, embedding_size, hidden_size, output_size, n_layers, dropout, pad_index):\n",
        "        super(AttentionRNN, self).__init__()\n",
        "        self.vocab_size = vocab_size\n",
        "        self.embedding_size = embedding_size\n",
        "        self.hidden_size = hidden_size\n",
        "        self.n_layers = n_layers\n",
        "        self.dropout = nn.Dropout(dropout)\n",
        "        self.pad_index = pad_index\n",
        "        self.embedding = nn.Embedding(vocab_size, embedding_size)\n",
        "        self.gru = nn.GRU(embedding_size, hidden_size, num_layers=n_layers, dropout=dropout, bidirectional=True)\n",
        "        self.W1 = nn.Linear(hidden_size * 2, hidden_size)\n",
        "        self.W2 = nn.Linear(hidden_size * 2, hidden_size)\n",
        "        self.V = nn.Linear(hidden_size, 1)\n",
        "        self.fc = nn.Linear(hidden_size * 2, output_size)\n",
        "    \n",
        "    def create_mask(self, sequences):\n",
        "        return sequences != self.pad_index\n",
        "    \n",
        "    def attention(self, h_state, outputs, mask):\n",
        "        \"\"\"\n",
        "        :param Tensor[batch_size, hidden_size * 2] h_state\n",
        "        :param Tensor[seq_len, batch_size, hidden_size * 2] outputs\n",
        "        :param Tensor[seq_len, batch_size] mask\n",
        "        :return Tensor[seq_len, batch_size, 1] attention_weights\n",
        "        \"\"\"\n",
        "        h_state = h_state.unsqueeze(0) # [1, batch_size, hidden_size * 2]\n",
        "        scores = self.V(torch.tanh(self.W1(outputs) + self.W2(h_state))) # [seq_len, batch_size, 1] alignment scores\n",
        "        mask = mask.unsqueeze(2) # [seq_len, batch_size, 1] Apply mask to ignore <pad> tokens\n",
        "        scores = scores.masked_fill(mask == 0, 1e-18)\n",
        "        attention_weights = F.softmax(scores, dim=0) # [seq_len, batch_size, 1]\n",
        "        return attention_weights\n",
        "\n",
        "    \n",
        "    def forward(self, input_sequences, sequence_lengths):\n",
        "        \"\"\"\n",
        "        :param Tensor[seq_len, batch_size] input_sequences\n",
        "        :param Tensor[batch_size,] sequence_lengths\n",
        "        :return Tensor[batch_size, output_size] logits\n",
        "        \"\"\"\n",
        "        mask = self.create_mask(input_sequences)\n",
        "        embedded = self.dropout(self.embedding(input_sequences)) # [seq_len, batch_size, embedding_size]\n",
        "        packed = nn.utils.rnn.pack_padded_sequence(embedded, sequence_lengths)\n",
        "        outputs, h_state = self.gru(packed) \n",
        "        outputs, _ = nn.utils.rnn.pad_packed_sequence(outputs)\n",
        "        # outputs: [seq_len, batch_size, hidden_size * 2]\n",
        "        # h_state: [n_layers * 2, batch_size, hidden_size]\n",
        "        h_state = h_state.view(self.n_layers, 2, -1, self.hidden_size) # [n_layers, 2, batch_size, hidden_size]\n",
        "        h_state = torch.cat([h_state[-1][0], h_state[-1][1]], dim=1) # [batch_size, hidden_size * 2]\n",
        "        h_state = self.dropout(h_state)\n",
        "        attention_weights = self.attention(h_state, outputs, mask) # [seq_len, batch_size, 1]\n",
        "        weighted = torch.bmm(attention_weights.permute(1, 2, 0), outputs.permute(1, 0, 2)) # [batch_size, 1, hidden_size * 2]\n",
        "        weighted = weighted.squeeze(1) # [batch_size, hidden_size * 2]\n",
        "        logits = self.fc(weighted) # [batch_size, output_size]\n",
        "        return logits"
      ],
      "execution_count": 140,
      "outputs": []
    },
    {
      "cell_type": "code",
      "metadata": {
        "id": "CsL1DMISOx40"
      },
      "source": [
        "class AverageMeter:\n",
        "    \n",
        "    def __init__(self):\n",
        "        self.value = 0.\n",
        "        self.sum = 0.\n",
        "        self.count = 0\n",
        "        self.average = 0.\n",
        "        \n",
        "    def reset(self):\n",
        "        self.value = 0.\n",
        "        self.sum = 0.\n",
        "        self.count = 0\n",
        "        self.average = 0.\n",
        "        \n",
        "    def update(self, value, n=1):\n",
        "        self.value = value\n",
        "        self.sum += value * n\n",
        "        self.count += n\n",
        "        self.average = self.sum / self.count"
      ],
      "execution_count": 141,
      "outputs": []
    },
    {
      "cell_type": "code",
      "metadata": {
        "id": "lX0W7MNRP4jG"
      },
      "source": [
        "def compute_metrics(y_pred, y_true):\n",
        "    y_pred = F.softmax(y_pred, dim=-1) # [batch_size, 4]\n",
        "    y_pred = y_pred.argmax(dim=1) # [batch_size,]\n",
        "    y_pred, y_true = y_pred.cpu().numpy(), y_true.cpu().numpy()\n",
        "    acc = accuracy_score(y_true, y_pred)\n",
        "    f1 = f1_score(y_true, y_pred, average='weighted')\n",
        "    return acc, f1"
      ],
      "execution_count": 142,
      "outputs": []
    },
    {
      "cell_type": "code",
      "metadata": {
        "id": "pB8_s6llO8Jh"
      },
      "source": [
        "class Trainer:\n",
        "    \n",
        "    def __init__(self, model, optimizer, criterion):\n",
        "        self.model = model\n",
        "        self.optimizer = optimizer\n",
        "        self.criterion = criterion\n",
        "    \n",
        "    def train_step(self, loader, epoch, grad_clip):\n",
        "        loss_tracker, acc_tracker, f1_tracker = AverageMeter(), AverageMeter(), AverageMeter()\n",
        "        self.model.train()\n",
        "        progress_bar = tqdm.tqdm(enumerate(loader), total=len(loader))\n",
        "        for i, batch in progress_bar:\n",
        "            self.optimizer.zero_grad()\n",
        "            logits = self.model(*batch.desc)\n",
        "            loss = self.criterion(logits, batch.trg)\n",
        "            loss.backward()\n",
        "            nn.utils.clip_grad_norm_(self.model.parameters(), grad_clip)\n",
        "            self.optimizer.step()\n",
        "            acc, f1 = compute_metrics(logits, batch.trg)\n",
        "            loss_tracker.update(loss.item()); acc_tracker.update(acc); f1_tracker.update(f1)\n",
        "            loss_, acc_, f1_ = loss_tracker.average, acc_tracker.average, f1_tracker.average\n",
        "            progress_bar.set_description(f'Epoch: {epoch+1:02d} -     loss: {loss_:.3f} -     acc: {acc_*100:.3f}% -     f1: {f1_*100:.3f}%')\n",
        "        return loss_tracker.average, acc_tracker.average, f1_tracker.average\n",
        "    \n",
        "    def validate(self, loader, epoch):\n",
        "        loss_tracker, acc_tracker, f1_tracker = AverageMeter(), AverageMeter(), AverageMeter()\n",
        "        self.model.eval()\n",
        "        with torch.no_grad():\n",
        "            progress_bar = tqdm.tqdm(enumerate(loader), total=len(loader))\n",
        "            for i, batch in progress_bar:\n",
        "                logits = self.model(*batch.desc)\n",
        "                loss = self.criterion(logits, batch.trg)\n",
        "                acc, f1 = compute_metrics(logits, batch.trg)\n",
        "                loss_tracker.update(loss.item()); acc_tracker.update(acc); f1_tracker.update(f1)\n",
        "                loss_, acc_, f1_ = loss_tracker.average, acc_tracker.average, f1_tracker.average\n",
        "                progress_bar.set_description(f'Epoch: {epoch+1:02d} - val_loss: {loss_:.3f} - val_acc: {acc_*100:.3f}% - val_f1: {f1_*100:.3f}%')\n",
        "        return loss_tracker.average, acc_tracker.average, f1_tracker.average\n",
        "    \n",
        "    def train(self, train_loader, valid_loader, n_epochs, grad_clip):\n",
        "        history, best_loss = {'acc': [], 'loss': [], 'f1': [], 'val_acc': [], 'val_loss': [], 'val_f1': []}, np.inf\n",
        "        for epoch in range(n_epochs):\n",
        "            loss, acc, f1 = self.train_step(train_loader, epoch, grad_clip)\n",
        "            val_loss, val_acc, val_f1 = self.validate(valid_loader, epoch)\n",
        "            if best_loss > val_loss:\n",
        "                best_loss = val_loss\n",
        "                torch.save(self.model.state_dict(), './checkpoints/attention-rnn.pth')\n",
        "            history['acc'].append(acc); history['val_acc'].append(val_acc)\n",
        "            history['loss'].append(loss); history['val_loss'].append(val_loss)\n",
        "            history['f1'].append(f1); history['val_f1'].append(val_f1)\n",
        "        return history"
      ],
      "execution_count": 143,
      "outputs": []
    },
    {
      "cell_type": "code",
      "metadata": {
        "id": "XyFaqFe_Ukfz"
      },
      "source": [
        "EMBEDDING_SIZE = 300\n",
        "HIDDEN_SIZE = 256\n",
        "N_LAYERS = 2\n",
        "DROPOUT = 0.25\n",
        "BATCH_SIZE = 64\n",
        "LR = 5e-4\n",
        "N_EPOCHS = 5\n",
        "GRAD_CLIP = 1.0"
      ],
      "execution_count": 144,
      "outputs": []
    },
    {
      "cell_type": "code",
      "metadata": {
        "id": "3b7gJOhTU0wW",
        "outputId": "ff224404-6763-40c7-8066-6ea265bab099",
        "colab": {
          "base_uri": "https://localhost:8080/",
          "height": 187
        }
      },
      "source": [
        "model = AttentionRNN(vocab_size=len(TEXT.vocab),\n",
        "                     embedding_size=EMBEDDING_SIZE,\n",
        "                     hidden_size=HIDDEN_SIZE,\n",
        "                     output_size=len(np.unique(train['Class Index'])),\n",
        "                     n_layers=N_LAYERS, dropout=DROPOUT,\n",
        "                     pad_index=TEXT.vocab.stoi[TEXT.pad_token]).to(DEVICE)\n",
        "optimizer = optim.RMSprop(params=model.parameters(), lr=LR)\n",
        "criterion = nn.CrossEntropyLoss()\n",
        "print(f'Number of parameters of the model: {sum(p.numel() for p in model.parameters() if p.requires_grad):,}')\n",
        "print(model)\n",
        "trainer = Trainer(model=model, optimizer=optimizer, criterion=criterion)"
      ],
      "execution_count": 145,
      "outputs": [
        {
          "output_type": "stream",
          "text": [
            "Number of parameters of the model: 17,233,673\n",
            "AttentionRNN(\n",
            "  (dropout): Dropout(p=0.25, inplace=False)\n",
            "  (embedding): Embedding(49763, 300)\n",
            "  (gru): GRU(300, 256, num_layers=2, dropout=0.25, bidirectional=True)\n",
            "  (W1): Linear(in_features=512, out_features=256, bias=True)\n",
            "  (W2): Linear(in_features=512, out_features=256, bias=True)\n",
            "  (V): Linear(in_features=256, out_features=1, bias=True)\n",
            "  (fc): Linear(in_features=512, out_features=4, bias=True)\n",
            ")\n"
          ],
          "name": "stdout"
        }
      ]
    },
    {
      "cell_type": "code",
      "metadata": {
        "id": "LdOudO1kVfbi",
        "outputId": "db1a40b7-eec4-48bf-ddf9-030db8454453",
        "colab": {
          "base_uri": "https://localhost:8080/",
          "height": 187
        }
      },
      "source": [
        "train_iterator, test_iterator =  BucketIterator.splits((train_dataset, test_dataset),\n",
        "                                                       batch_size=BATCH_SIZE,\n",
        "                                                       sort_key=lambda x: len(x.desc),\n",
        "                                                       sort_within_batch=True,\n",
        "                                                       device=DEVICE)\n",
        "!mkdir -p ./checkpoints\n",
        "history = trainer.train(train_loader=train_iterator, valid_loader=test_iterator, n_epochs=N_EPOCHS, grad_clip=GRAD_CLIP)"
      ],
      "execution_count": 146,
      "outputs": [
        {
          "output_type": "stream",
          "text": [
            "Epoch: 01 -     loss: 0.453 -     acc: 83.388% -     f1: 83.335%: 100%|██████████| 1875/1875 [00:46<00:00, 40.08it/s]\n",
            "Epoch: 01 - val_loss: 0.319 - val_acc: 89.089% - val_f1: 89.078%: 100%|██████████| 119/119 [00:01<00:00, 113.78it/s]\n",
            "Epoch: 02 -     loss: 0.275 -     acc: 90.312% -     f1: 90.317%: 100%|██████████| 1875/1875 [00:46<00:00, 40.30it/s]\n",
            "Epoch: 02 - val_loss: 0.269 - val_acc: 90.857% - val_f1: 90.862%: 100%|██████████| 119/119 [00:01<00:00, 118.35it/s]\n",
            "Epoch: 03 -     loss: 0.217 -     acc: 92.397% -     f1: 92.407%: 100%|██████████| 1875/1875 [00:46<00:00, 40.64it/s]\n",
            "Epoch: 03 - val_loss: 0.253 - val_acc: 91.575% - val_f1: 91.591%: 100%|██████████| 119/119 [00:01<00:00, 117.49it/s]\n",
            "Epoch: 04 -     loss: 0.178 -     acc: 93.757% -     f1: 93.760%: 100%|██████████| 1875/1875 [00:46<00:00, 40.63it/s]\n",
            "Epoch: 04 - val_loss: 0.267 - val_acc: 91.601% - val_f1: 91.643%: 100%|██████████| 119/119 [00:01<00:00, 117.75it/s]\n",
            "Epoch: 05 -     loss: 0.148 -     acc: 94.805% -     f1: 94.807%: 100%|██████████| 1875/1875 [00:46<00:00, 40.47it/s]\n",
            "Epoch: 05 - val_loss: 0.256 - val_acc: 91.864% - val_f1: 91.883%: 100%|██████████| 119/119 [00:01<00:00, 114.07it/s]\n"
          ],
          "name": "stderr"
        }
      ]
    },
    {
      "cell_type": "code",
      "metadata": {
        "id": "rMObPWHHa1CV",
        "outputId": "7b5af1ec-a3a9-45e4-bab8-8719f74a76a2",
        "colab": {
          "base_uri": "https://localhost:8080/",
          "height": 350
        }
      },
      "source": [
        "_, axes = plt.subplots(1, 3, figsize=(15, 5))\n",
        "\n",
        "axes[0].plot(history['loss'], label='train')\n",
        "axes[0].plot(history['val_loss'], label='valid')\n",
        "axes[0].set_title('Loss history')\n",
        "axes[0].set_xlabel('Epoch')\n",
        "axes[0].set_ylabel('Loss')\n",
        "axes[0].grid(True)\n",
        "axes[0].legend()\n",
        "\n",
        "axes[1].plot(history['acc'], label='train')\n",
        "axes[1].plot(history['val_acc'], label='valid')\n",
        "axes[1].set_title('Accuracy history')\n",
        "axes[1].set_xlabel('Epoch')\n",
        "axes[1].set_ylabel('Accuracy (%)')\n",
        "axes[1].grid(True)\n",
        "axes[1].legend()\n",
        "\n",
        "axes[2].plot(history['f1'], label='train')\n",
        "axes[2].plot(history['val_f1'], label='valid')\n",
        "axes[2].set_title('F1 history')\n",
        "axes[2].set_xlabel('Epoch')\n",
        "axes[2].set_ylabel('F1 (%)')\n",
        "axes[2].grid(True)\n",
        "axes[2].legend()\n",
        "\n",
        "plt.show()"
      ],
      "execution_count": 147,
      "outputs": [
        {
          "output_type": "display_data",
          "data": {
            "image/png": "[encoded data removed]",
            "text/plain": [
              "<Figure size 1080x360 with 3 Axes>"
            ]
          },
          "metadata": {
            "tags": [],
            "needs_background": "light"
          }
        }
      ]
    },
    {
      "cell_type": "code",
      "metadata": {
        "id": "ws64bFPIbyFg",
        "outputId": "974a6ef0-2109-4aa5-e4f5-05836c7d7e82",
        "colab": {
          "base_uri": "https://localhost:8080/",
          "height": 170
        }
      },
      "source": [
        "model.load_state_dict(torch.load('./checkpoints/attention-rnn.pth'))\n",
        "model.to(DEVICE)"
      ],
      "execution_count": 148,
      "outputs": [
        {
          "output_type": "execute_result",
          "data": {
            "text/plain": [
              "AttentionRNN(\n",
              "  (dropout): Dropout(p=0.25, inplace=False)\n",
              "  (embedding): Embedding(49763, 300)\n",
              "  (gru): GRU(300, 256, num_layers=2, dropout=0.25, bidirectional=True)\n",
              "  (W1): Linear(in_features=512, out_features=256, bias=True)\n",
              "  (W2): Linear(in_features=512, out_features=256, bias=True)\n",
              "  (V): Linear(in_features=256, out_features=1, bias=True)\n",
              "  (fc): Linear(in_features=512, out_features=4, bias=True)\n",
              ")"
            ]
          },
          "metadata": {
            "tags": []
          },
          "execution_count": 148
        }
      ]
    },
    {
      "cell_type": "code",
      "metadata": {
        "id": "K216QBqCe1le",
        "outputId": "faa00b52-2646-4275-97a2-3680f519e644",
        "colab": {
          "base_uri": "https://localhost:8080/",
          "height": 34
        }
      },
      "source": [
        "_, val_acc, val_f1 = trainer.validate(test_iterator, 0)"
      ],
      "execution_count": 149,
      "outputs": [
        {
          "output_type": "stream",
          "text": [
            "Epoch: 01 - val_loss: 0.253 - val_acc: 91.575% - val_f1: 91.591%: 100%|██████████| 119/119 [00:01<00:00, 113.83it/s]\n"
          ],
          "name": "stderr"
        }
      ]
    },
    {
      "cell_type": "code",
      "metadata": {
        "id": "kz5TMmpLfQ92",
        "outputId": "416d96e6-0c23-408c-b894-a5ec7bdfb4ca",
        "colab": {
          "base_uri": "https://localhost:8080/",
          "height": 34
        }
      },
      "source": [
        "print(f'Accuracy score: {val_acc*100:.3f}% - F1 score: {val_f1*100:.3f}%')"
      ],
      "execution_count": 150,
      "outputs": [
        {
          "output_type": "stream",
          "text": [
            "Accuracy score: 91.575% - F1 score: 91.591%\n"
          ],
          "name": "stdout"
        }
      ]
    },
    {
      "cell_type": "code",
      "metadata": {
        "id": "3J4FPq44fdyn"
      },
      "source": [
        ""
      ],
      "execution_count": null,
      "outputs": []
    }
  ]
}